{
 "cells": [
  {
   "cell_type": "code",
   "execution_count": null,
   "metadata": {},
   "outputs": [],
   "source": []
  },
  {
   "cell_type": "code",
   "execution_count": 24,
   "metadata": {},
   "outputs": [],
   "source": [
    "from compress_pickle import load, dump\n",
    "import matplotlib.pyplot as plt\n",
    "import sequences\n",
    "x_train = load('../data/synthetic/v2/ECG200_Traffic_Spectro/50/2500/50_part0_x_test.gz')\n",
    "seqs = sequences.get_all_sequences()\n"
   ]
  },
  {
   "cell_type": "code",
   "execution_count": 59,
   "metadata": {},
   "outputs": [
    {
     "name": "stdout",
     "output_type": "stream",
     "text": [
      "16\n",
      "2500\n"
     ]
    }
   ],
   "source": [
    "def create_classification_tasks(x, seqs):\n",
    "    dic = {i: val for i,val in enumerate(seqs)}\n",
    "    desc_dic = {val: i for i,val in enumerate(set(seqs))}\n",
    "    num_classes = len(seqs)\n",
    "    num_samples = int(x.shape[0]/num_classes)\n",
    "    print(num_classes)\n",
    "    print(num_samples)\n",
    "    y = []\n",
    "    for i in range(x.shape[0]):\n",
    "        label = [0 for j in range(len(desc_dic))]\n",
    "        curr_label = desc_dic[dic[int(i/num_samples)]]\n",
    "        label[curr_label] = 1\n",
    "        y.append(label)\n",
    "    return np.array(y)\n",
    "\n",
    "y = create_classification_tasks(x_train, seqs)\n",
    "    "
   ]
  },
  {
   "cell_type": "code",
   "execution_count": 61,
   "metadata": {},
   "outputs": [
    {
     "data": {
      "text/plain": [
       "array([[0, 0, 1, ..., 0, 0, 0],\n",
       "       [0, 0, 1, ..., 0, 0, 0],\n",
       "       [0, 0, 1, ..., 0, 0, 0],\n",
       "       ...,\n",
       "       [0, 0, 0, ..., 0, 1, 0],\n",
       "       [0, 0, 0, ..., 0, 1, 0],\n",
       "       [0, 0, 0, ..., 0, 1, 0]])"
      ]
     },
     "execution_count": 61,
     "metadata": {},
     "output_type": "execute_result"
    }
   ],
   "source": [
    "y"
   ]
  },
  {
   "cell_type": "code",
   "execution_count": 63,
   "metadata": {},
   "outputs": [],
   "source": []
  },
  {
   "cell_type": "code",
   "execution_count": 64,
   "metadata": {},
   "outputs": [
    {
     "ename": "FileNotFoundError",
     "evalue": "[Errno 2] No such file or directory: './data/synthetic/v2/ECG200_Traffic_Spectro/'",
     "output_type": "error",
     "traceback": [
      "\u001b[0;31m---------------------------------------------------------------------------\u001b[0m",
      "\u001b[0;31mFileNotFoundError\u001b[0m                         Traceback (most recent call last)",
      "\u001b[0;32m<ipython-input-64-4e13810516dc>\u001b[0m in \u001b[0;36m<module>\u001b[0;34m\u001b[0m\n\u001b[1;32m      1\u001b[0m \u001b[0mdata_path\u001b[0m \u001b[0;34m=\u001b[0m \u001b[0;34m\"./data/synthetic/v2/ECG200_Traffic_Spectro/\"\u001b[0m\u001b[0;34m\u001b[0m\u001b[0;34m\u001b[0m\u001b[0m\n\u001b[0;32m----> 2\u001b[0;31m \u001b[0;32mfor\u001b[0m \u001b[0mfile\u001b[0m \u001b[0;32min\u001b[0m \u001b[0mos\u001b[0m\u001b[0;34m.\u001b[0m\u001b[0mlistdir\u001b[0m\u001b[0;34m(\u001b[0m\u001b[0mdata_path\u001b[0m\u001b[0;34m)\u001b[0m\u001b[0;34m:\u001b[0m\u001b[0;34m\u001b[0m\u001b[0;34m\u001b[0m\u001b[0m\n\u001b[0m\u001b[1;32m      3\u001b[0m     \u001b[0mprint\u001b[0m\u001b[0;34m(\u001b[0m\u001b[0mfile\u001b[0m\u001b[0;34m)\u001b[0m\u001b[0;34m\u001b[0m\u001b[0;34m\u001b[0m\u001b[0m\n",
      "\u001b[0;31mFileNotFoundError\u001b[0m: [Errno 2] No such file or directory: './data/synthetic/v2/ECG200_Traffic_Spectro/'"
     ]
    }
   ],
   "source": [
    "import os\n",
    "data_path = \"./data/synthetic/v2/ECG200_Traffic_Spectro/\"\n",
    "for file in os.listdir(data_path):\n",
    "    print(file)"
   ]
  },
  {
   "cell_type": "code",
   "execution_count": 1,
   "metadata": {},
   "outputs": [],
   "source": [
    "from SyntheticGenerator import generate_synthetic_data"
   ]
  },
  {
   "cell_type": "code",
   "execution_count": 1,
   "metadata": {},
   "outputs": [
    {
     "data": {
      "text/plain": [
       "<Figure size 640x480 with 1 Axes>"
      ]
     },
     "metadata": {},
     "output_type": "display_data"
    }
   ],
   "source": [
    "import FeatureSet as fs\n",
    "import sequences\n",
    "import numpy as np\n",
    "from compress_pickle import load, dump\n",
    "import os\n",
    "\n",
    "\n",
    "\n",
    "def get_kwargs(seq_type, num_samples, seq):\n",
    "    others = [\"HighPeak\", \"Up\"\n",
    "            , \"Down\", \"UpAndDown\", \"UpAndDownAndNormal\"\n",
    "            , \"SmallUpHighDownAndNormal\", \"SmallDownHighUpAndNormal\", \"SinWave\", \"Paper\"]\n",
    "    \n",
    "    one_cycles = [\"RandomWaveVersion\", \"ECG200\"]\n",
    "    \n",
    "    seq_type = \"other\" if seq_type in others else seq_type\n",
    "    seq_type = \"ECG200\" if seq_type in one_cycles else seq_type\n",
    "    kwargs = {}\n",
    "    \n",
    "    kwargs[\"CrazyRandom\"] = {\n",
    "                        \"num_samples\": num_samples,\n",
    "                        \"seq_length\": seq,\n",
    "                        \"num_cycles\": 1,\n",
    "                        \"std\": 10,\n",
    "                        \"starting_point\": [-3, 3],\n",
    "                        \"y_max_value\": [-3, 3]}\n",
    "\n",
    "    \n",
    "    \n",
    "    kwargs[\"ECG200\"] = {\n",
    "                        \"num_samples\": num_samples,\n",
    "                        \"seq_length\": seq,\n",
    "                        \"num_cycles\": 1,\n",
    "                        \"std\": 2,\n",
    "                        \"starting_point\": [-3, 3],\n",
    "                        \"y_max_value\": [-3, 3]}\n",
    "    \n",
    "    kwargs[\"Traffic\"] = {\n",
    "                        \"num_samples\": num_samples,\n",
    "                        \"seq_length\": seq,\n",
    "                        \"num_cycles\": 1,\n",
    "                        \"std\": 1,\n",
    "                        \"starting_point\": [-1, 1],\n",
    "                        \"y_max_value\": [-2, 2]}\n",
    "    \n",
    "    kwargs[\"other\"] = {\n",
    "                        \"num_samples\": num_samples,\n",
    "                        \"seq_length\": seq,\n",
    "                        \"num_cycles\": 5,\n",
    "                        \"std\": 0.5,\n",
    "                        \"starting_point\": [-3, 3],\n",
    "                        \"y_max_value\": [-3, 3]}\n",
    "    \n",
    "    kwargs[\"Paper\"] = {\n",
    "                    \"num_samples\": num_samples,\n",
    "                    \"seq_length\": seq,\n",
    "                    \"num_cycles\": 5,\n",
    "                    \"std\": 0,\n",
    "                    \"starting_point\": [-3, 3],\n",
    "                    \"y_max_value\": [-3, 3]}\n",
    "    \n",
    "    kwargs[\"StraightLine\"] = {\n",
    "                    \"num_samples\": num_samples,\n",
    "                    \"seq_length\": seq,\n",
    "                    \"num_cycles\": 1,\n",
    "                    \"std\": 0,\n",
    "                    \"starting_point\": [-3, 3],\n",
    "                    \"y_max_value\": [-3, 3]}\n",
    "    \n",
    "   \n",
    "    return kwargs[seq_type]\n",
    "\n",
    "import matplotlib.pyplot as plt\n",
    "seq = 500\n",
    "num_samples = 1\n",
    "num_times = 1\n",
    "all_sequences_type = [\"Paper\"]\n",
    "for i in range(num_times):\n",
    "        y = []\n",
    "        for sequence_type in all_sequences_type:\n",
    "            kwargs = get_kwargs(sequence_type, num_samples, seq)\n",
    "            y_samples = eval(\"sequences.{}(**kwargs).generate_data()\".format(sequence_type))\n",
    "            y.append(y_samples)"
   ]
  },
  {
   "cell_type": "code",
   "execution_count": 2,
   "metadata": {},
   "outputs": [
    {
     "data": {
      "text/plain": [
       "(500,)"
      ]
     },
     "execution_count": 2,
     "metadata": {},
     "output_type": "execute_result"
    }
   ],
   "source": [
    "y = np.array(y)\n",
    "y.shape\n",
    "y = y.reshape(-1,)\n",
    "y.shape"
   ]
  },
  {
   "cell_type": "code",
   "execution_count": 19,
   "metadata": {},
   "outputs": [
    {
     "data": {
      "image/png": "[encoded data removed]",
      "text/plain": [
       "<Figure size 432x288 with 1 Axes>"
      ]
     },
     "metadata": {
      "needs_background": "light"
     },
     "output_type": "display_data"
    }
   ],
   "source": [
    "ranges = [20,20,25,35]\n",
    "x_s = [[0,20],[19,40],[39,65],[64,100]]\n",
    "for idx in range(4):\n",
    "    y_s = np.array([np.array(yi) for yi in y_s])\n",
    "    plt.plot(list(range(x_s[idx][0], x_s[idx][1])),y[x_s[idx][0]:x_s[idx][1]])\n",
    "plt.plot([101],y[101])\n",
    "plt.plot(list(range(99, 301)),y[99:301])\n",
    "plt.legend([\"Down\",\"Up\", \"Sine\", \"Straight\",\"Cycle\"])\n",
    "plt.title(\"Slopes types and cycle description\")\n",
    "plt.savefig(\"../data/plots/paper/slopes_cycle.png\",bbox_inches='tight')\n",
    "plt.show()"
   ]
  },
  {
   "cell_type": "code",
   "execution_count": 14,
   "metadata": {},
   "outputs": [
    {
     "data": {
      "image/png": "[encoded data removed]",
      "text/plain": [
       "<Figure size 432x288 with 1 Axes>"
      ]
     },
     "metadata": {
      "needs_background": "light"
     },
     "output_type": "display_data"
    }
   ],
   "source": [
    "import FeatureSet as fs\n",
    "import sequences\n",
    "import numpy as np\n",
    "from compress_pickle import load, dump\n",
    "import os\n",
    "\n",
    "\n",
    "\n",
    "def get_kwargs(seq_type, num_samples, seq):\n",
    "    others = [\"HighPeak\", \"Up\"\n",
    "            , \"Down\", \"UpAndDown\", \"UpAndDownAndNormal\"\n",
    "            , \"SmallUpHighDownAndNormal\", \"SmallDownHighUpAndNormal\", \"SinWave\", \"Paper\"]\n",
    "    \n",
    "    one_cycles = [\"RandomWaveVersion\", \"ECG200\"]\n",
    "    \n",
    "    seq_type = \"other\" if seq_type in others else seq_type\n",
    "    seq_type = \"ECG200\" if seq_type in one_cycles else seq_type\n",
    "    kwargs = {}\n",
    "    \n",
    "    kwargs[\"CrazyRandom\"] = {\n",
    "                        \"num_samples\": num_samples,\n",
    "                        \"seq_length\": seq,\n",
    "                        \"num_cycles\": 1,\n",
    "                        \"std\": 10,\n",
    "                        \"starting_point\": [-3, 3],\n",
    "                        \"y_max_value\": [-3, 3]}\n",
    "\n",
    "    \n",
    "    \n",
    "    kwargs[\"ECG200\"] = {\n",
    "                        \"num_samples\": num_samples,\n",
    "                        \"seq_length\": seq,\n",
    "                        \"num_cycles\": 1,\n",
    "                        \"std\": 2,\n",
    "                        \"starting_point\": [-3, 3],\n",
    "                        \"y_max_value\": [-3, 3]}\n",
    "    \n",
    "    kwargs[\"Traffic\"] = {\n",
    "                        \"num_samples\": num_samples,\n",
    "                        \"seq_length\": seq,\n",
    "                        \"num_cycles\": 1,\n",
    "                        \"std\": 1,\n",
    "                        \"starting_point\": [-1, 1],\n",
    "                        \"y_max_value\": [-2, 2]}\n",
    "    \n",
    "    kwargs[\"other\"] = {\n",
    "                        \"num_samples\": num_samples,\n",
    "                        \"seq_length\": seq,\n",
    "                        \"num_cycles\": 5,\n",
    "                        \"std\": 0.5,\n",
    "                        \"starting_point\": [-3, 3],\n",
    "                        \"y_max_value\": [-3, 3]}\n",
    "    \n",
    "    kwargs[\"StraightLine\"] = {\n",
    "                    \"num_samples\": num_samples,\n",
    "                    \"seq_length\": seq,\n",
    "                    \"num_cycles\": 1,\n",
    "                    \"std\": 0,\n",
    "                    \"starting_point\": [-3, 3],\n",
    "                    \"y_max_value\": [-3, 3]}\n",
    "    \n",
    "   \n",
    "    return kwargs[seq_type]\n",
    "\n",
    "import matplotlib.pyplot as plt\n",
    "seq = 250\n",
    "num_samples = 1\n",
    "num_times = 1\n",
    "all_sequences_type = [\"Paper\"]\n",
    "for i in range(num_times):\n",
    "        y = []\n",
    "        for sequence_type in all_sequences_type:\n",
    "            kwargs = get_kwargs(sequence_type, num_samples, seq)\n",
    "            y_samples = eval(\"sequences.{}(**kwargs).generate_data()\".format(sequence_type))\n",
    "            y.append(y_samples)\n",
    "        for y_s in y:\n",
    "            y_s = np.array([np.array(yi) for yi in y_s])\n",
    "            plt.plot(list(range(len(y_s[0]))),y_s[0])\n",
    "            plt.show()"
   ]
  },
  {
   "cell_type": "code",
   "execution_count": null,
   "metadata": {},
   "outputs": [],
   "source": []
  }
 ],
 "metadata": {
  "kernelspec": {
   "display_name": "Python 3",
   "language": "python",
   "name": "python3"
  },
  "language_info": {
   "codemirror_mode": {
    "name": "ipython",
    "version": 3
   },
   "file_extension": ".py",
   "mimetype": "text/x-python",
   "name": "python",
   "nbconvert_exporter": "python",
   "pygments_lexer": "ipython3",
   "version": "3.7.5"
  }
 },
 "nbformat": 4,
 "nbformat_minor": 4
}
